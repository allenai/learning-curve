{
 "cells": [
  {
   "cell_type": "code",
   "execution_count": 1,
   "metadata": {},
   "outputs": [],
   "source": [
    "import os\n",
    "import sys\n",
    "module_path = os.path.abspath('..')\n",
    "sys.path.append(module_path)\n",
    "from lc.measurements import CurveMeasurements\n",
    "from lc.variance import ErrorMeanVarianceEstimator\n",
    "import matplotlib\n",
    "import matplotlib.pyplot as plt"
   ]
  },
  {
   "cell_type": "markdown",
   "metadata": {},
   "source": [
    "Load error measurements using `CurveMeasurements`. See `notebooks/measurements.ipynb` for more about reading error measurements.  "
   ]
  },
  {
   "cell_type": "code",
   "execution_count": 2,
   "metadata": {},
   "outputs": [
    {
     "name": "stdout",
     "output_type": "stream",
     "text": [
      "--\n",
      "num_train_samples: 25\n",
      "test_errors: [74.04, 74.48, 74.07, 74.4, 75.95, 74.97, 74.02, 75.8, 74.6, 74.27]\n",
      "num_ms: 10\n",
      "--\n",
      "num_train_samples: 50\n",
      "test_errors: [57.59, 58.45, 58.13, 58.44, 59.46, 58.14, 58.71, 58.22]\n",
      "num_ms: 8\n",
      "--\n",
      "num_train_samples: 100\n",
      "test_errors: [45.01, 43.64, 45.06, 44.63]\n",
      "num_ms: 4\n",
      "--\n",
      "num_train_samples: 200\n",
      "test_errors: [35.36, 35.2]\n",
      "num_ms: 2\n",
      "--\n",
      "num_train_samples: 400\n",
      "test_errors: [27.92]\n",
      "num_ms: 1\n",
      "--\n",
      "\n"
     ]
    }
   ],
   "source": [
    "curvems = CurveMeasurements()\n",
    "curvems.load_from_json('../data/no_pretr_ft.json')\n",
    "print(curvems)"
   ]
  },
  {
   "cell_type": "markdown",
   "metadata": {},
   "source": [
    "`ErrorMeanVarianceEstimator` computes the mean and variance estimates needed for computing a learning curve. Two kinds of variances are computed for each train set size -\n",
    "- `variance`: unbiased sample variance of errors\n",
    "- `smoothed_variance`: variance estimated by fitting $v_0 + v_1/n$ to sample variances. Here, $n$ denotes the number of training samples. We set $v_0$, the variance at infinite training samples, to a small value such as $0.02$ and then estimate $v_1$ using a weighted least squares fit. Since variance of sample variance is inversely proportional to $N-1$, where $N$ is the number of samples used to compute the sample variance, we use `num_ms`$-1$ as weights. "
   ]
  },
  {
   "cell_type": "code",
   "execution_count": 3,
   "metadata": {},
   "outputs": [
    {
     "name": "stdout",
     "output_type": "stream",
     "text": [
      "--\n",
      "num_train_samples: 25\n",
      "test_errors: [74.04, 74.48, 74.07, 74.4, 75.95, 74.97, 74.02, 75.8, 74.6, 74.27]\n",
      "num_ms: 10\n",
      "mean: 74.66\n",
      "variance: 0.4953\n",
      "smoothed_variance: 0.5261\n",
      "--\n",
      "num_train_samples: 50\n",
      "test_errors: [57.59, 58.45, 58.13, 58.44, 59.46, 58.14, 58.71, 58.22]\n",
      "num_ms: 8\n",
      "mean: 58.3925\n",
      "variance: 0.2932\n",
      "smoothed_variance: 0.273\n",
      "--\n",
      "num_train_samples: 100\n",
      "test_errors: [45.01, 43.64, 45.06, 44.63]\n",
      "num_ms: 4\n",
      "mean: 44.585\n",
      "variance: 0.4338\n",
      "smoothed_variance: 0.1465\n",
      "--\n",
      "num_train_samples: 200\n",
      "test_errors: [35.36, 35.2]\n",
      "num_ms: 2\n",
      "mean: 35.28\n",
      "variance: 0.0128\n",
      "smoothed_variance: 0.0833\n",
      "--\n",
      "num_train_samples: 400\n",
      "test_errors: [27.92]\n",
      "num_ms: 1\n",
      "mean: 27.92\n",
      "smoothed_variance: 0.0516\n",
      "--\n",
      "\n"
     ]
    }
   ],
   "source": [
    "err_mean_var_estimator = ErrorMeanVarianceEstimator(v_0=0.02)\n",
    "err_mean_var_estimator.estimate(curvems)\n",
    "print(curvems)"
   ]
  },
  {
   "cell_type": "code",
   "execution_count": 4,
   "metadata": {},
   "outputs": [
    {
     "name": "stdout",
     "output_type": "stream",
     "text": [
      "v_0: 0.02\n",
      "v_1: 12.6524\n"
     ]
    }
   ],
   "source": [
    "print('v_0:',err_mean_var_estimator.v_0)\n",
    "print('v_1:',err_mean_var_estimator.v_1)"
   ]
  },
  {
   "cell_type": "code",
   "execution_count": 5,
   "metadata": {},
   "outputs": [
    {
     "data": {
      "image/png": "[encoded data removed]",
      "text/plain": [
       "<Figure size 432x288 with 1 Axes>"
      ]
     },
     "metadata": {},
     "output_type": "display_data"
    }
   ],
   "source": [
    "err_mean_var_estimator.visualize(curvems)"
   ]
  }
 ],
 "metadata": {
  "kernelspec": {
   "display_name": "Python 3",
   "language": "python",
   "name": "python3"
  },
  "language_info": {
   "codemirror_mode": {
    "name": "ipython",
    "version": 3
   },
   "file_extension": ".py",
   "mimetype": "text/x-python",
   "name": "python",
   "nbconvert_exporter": "python",
   "pygments_lexer": "ipython3",
   "version": "3.9.2"
  }
 },
 "nbformat": 4,
 "nbformat_minor": 4
}
