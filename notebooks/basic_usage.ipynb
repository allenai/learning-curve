{
 "cells": [
  {
   "cell_type": "code",
   "execution_count": 1,
   "metadata": {},
   "outputs": [],
   "source": [
    "import os\n",
    "import sys\n",
    "module_path = os.path.abspath('..')\n",
    "sys.path.append(module_path)\n",
    "from lc.measurements import CurveMeasurements\n",
    "from lc.curve import LearningCurveEstimator\n",
    "from omegaconf import OmegaConf\n",
    "import matplotlib\n",
    "import matplotlib.pyplot as plt"
   ]
  },
  {
   "cell_type": "markdown",
   "metadata": {},
   "source": [
    "Load the error measurments"
   ]
  },
  {
   "cell_type": "code",
   "execution_count": 2,
   "metadata": {},
   "outputs": [
    {
     "name": "stdout",
     "output_type": "stream",
     "text": [
      "--\n",
      "num_train_samples: 25\n",
      "test_errors: [74.04, 74.48, 74.07, 74.4, 75.95, 74.97, 74.02, 75.8, 74.6, 74.27]\n",
      "num_ms: 10\n",
      "--\n",
      "num_train_samples: 50\n",
      "test_errors: [57.59, 58.45, 58.13, 58.44, 59.46, 58.14, 58.71, 58.22]\n",
      "num_ms: 8\n",
      "--\n",
      "num_train_samples: 100\n",
      "test_errors: [45.01, 43.64, 45.06, 44.63]\n",
      "num_ms: 4\n",
      "--\n",
      "num_train_samples: 200\n",
      "test_errors: [35.36, 35.2]\n",
      "num_ms: 2\n",
      "--\n",
      "num_train_samples: 400\n",
      "test_errors: [27.92]\n",
      "num_ms: 1\n",
      "--\n",
      "\n"
     ]
    }
   ],
   "source": [
    "curvems = CurveMeasurements()\n",
    "curvems.load_from_json('../data/no_pretr_ft.json')\n",
    "print(curvems)"
   ]
  },
  {
   "cell_type": "markdown",
   "metadata": {},
   "source": [
    "Load config"
   ]
  },
  {
   "cell_type": "code",
   "execution_count": 3,
   "metadata": {},
   "outputs": [
    {
     "name": "stdout",
     "output_type": "stream",
     "text": [
      "gamma: -0.5\n",
      "gamma_search: true\n",
      "gamma_range:\n",
      "- -1.0\n",
      "- 0\n",
      "search_reg_coeff: 5\n",
      "normalize_objective: false\n",
      "variance_type: smooth\n",
      "use_weights: true\n",
      "ddof: 1\n",
      "v_0: 0.02\n",
      "v_1: null\n",
      "min_n: 20\n",
      "'N': 400\n",
      "num_interp_pts: 100\n",
      "marker_size: 20\n",
      "\n"
     ]
    }
   ],
   "source": [
    "cfg = OmegaConf.load('../lc/config.yaml')\n",
    "print(OmegaConf.to_yaml(cfg))"
   ]
  },
  {
   "cell_type": "markdown",
   "metadata": {},
   "source": [
    "Estimate curve"
   ]
  },
  {
   "cell_type": "code",
   "execution_count": 4,
   "metadata": {},
   "outputs": [],
   "source": [
    "curve_estimator = LearningCurveEstimator(cfg)\n",
    "curve, objective = curve_estimator.estimate(curvems)"
   ]
  },
  {
   "cell_type": "markdown",
   "metadata": {},
   "source": [
    "Plot"
   ]
  },
  {
   "cell_type": "code",
   "execution_count": 5,
   "metadata": {},
   "outputs": [
    {
     "data": {
      "image/png": "[encoded data removed]",
      "text/plain": [
       "<Figure size 432x288 with 1 Axes>"
      ]
     },
     "metadata": {},
     "output_type": "display_data"
    }
   ],
   "source": [
    "curve_estimator.plot(curve,curvems,label='No Pretr; Ft')"
   ]
  }
 ],
 "metadata": {
  "kernelspec": {
   "display_name": "Python 3",
   "language": "python",
   "name": "python3"
  },
  "language_info": {
   "codemirror_mode": {
    "name": "ipython",
    "version": 3
   },
   "file_extension": ".py",
   "mimetype": "text/x-python",
   "name": "python",
   "nbconvert_exporter": "python",
   "pygments_lexer": "ipython3",
   "version": "3.9.2"
  }
 },
 "nbformat": 4,
 "nbformat_minor": 4
}
