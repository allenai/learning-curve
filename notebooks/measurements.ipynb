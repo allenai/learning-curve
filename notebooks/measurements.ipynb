{
 "cells": [
  {
   "cell_type": "code",
   "execution_count": 1,
   "metadata": {},
   "outputs": [],
   "source": [
    "import os\n",
    "import sys\n",
    "module_path = os.path.abspath('..')\n",
    "sys.path.append(module_path)\n",
    "from lc.measurements import CurveMeasurements"
   ]
  },
  {
   "cell_type": "markdown",
   "metadata": {},
   "source": [
    "Error measurements used to compute learning curves"
   ]
  },
  {
   "cell_type": "code",
   "execution_count": 2,
   "metadata": {},
   "outputs": [
    {
     "name": "stdout",
     "output_type": "stream",
     "text": [
      "[\n",
      "    {\n",
      "        \"num_train_samples\": 25,\n",
      "        \"test_errors\": [\n",
      "            87.2,\n",
      "            85.9,\n",
      "            86.63,\n",
      "            86.61,\n",
      "            87.61,\n",
      "            86.61,\n",
      "            86.44,\n",
      "            85.75,\n",
      "            85.35,\n",
      "            85.98\n",
      "        ]\n",
      "    },\n",
      "    {\n",
      "        \"num_train_samples\": 50,\n",
      "        \"test_errors\": [\n",
      "            83.76,\n",
      "            82.41,\n",
      "            81.39,\n",
      "            83.25,\n",
      "            84.86,\n",
      "            82.18,\n",
      "            84.23,\n",
      "            84.55\n",
      "        ]\n",
      "    },\n",
      "    {\n",
      "        \"num_train_samples\": 100,\n",
      "        \"test_errors\": [\n",
      "            82.03,\n",
      "            81.86,\n",
      "            81.5,\n",
      "            80.72\n",
      "        ]\n",
      "    },\n",
      "    {\n",
      "        \"num_train_samples\": 200,\n",
      "        \"test_errors\": [\n",
      "            79.14,\n",
      "            78.48\n",
      "        ]\n",
      "    },\n",
      "    {\n",
      "        \"num_train_samples\": 400,\n",
      "        \"test_errors\": [\n",
      "            79.72\n",
      "        ]\n",
      "    }\n",
      "]\n"
     ]
    }
   ],
   "source": [
    "import json\n",
    "data = json.load(open('../data/no_pretr_linear.json','r'))\n",
    "print(json.dumps(data,indent=4))"
   ]
  },
  {
   "cell_type": "markdown",
   "metadata": {},
   "source": [
    "Load error measurements for different train set sizes to estimate a learning curve using `CurveMeasurements`. To load directly from a `.json` file use `load_from_json` or use `load_from_dict` to directly supply a dictionary that is already loaded in memory.   "
   ]
  },
  {
   "cell_type": "code",
   "execution_count": 3,
   "metadata": {},
   "outputs": [
    {
     "name": "stdout",
     "output_type": "stream",
     "text": [
      "--\n",
      "num_train_samples: 25\n",
      "test_errors: [87.2, 85.9, 86.63, 86.61, 87.61, 86.61, 86.44, 85.75, 85.35, 85.98]\n",
      "num_ms: 10\n",
      "--\n",
      "num_train_samples: 50\n",
      "test_errors: [83.76, 82.41, 81.39, 83.25, 84.86, 82.18, 84.23, 84.55]\n",
      "num_ms: 8\n",
      "--\n",
      "num_train_samples: 100\n",
      "test_errors: [82.03, 81.86, 81.5, 80.72]\n",
      "num_ms: 4\n",
      "--\n",
      "num_train_samples: 200\n",
      "test_errors: [79.14, 78.48]\n",
      "num_ms: 2\n",
      "--\n",
      "num_train_samples: 400\n",
      "test_errors: [79.72]\n",
      "num_ms: 1\n",
      "--\n",
      "\n"
     ]
    }
   ],
   "source": [
    "curvems = CurveMeasurements()\n",
    "curvems.load_from_json('../data/no_pretr_linear.json')\n",
    "print(curvems)"
   ]
  },
  {
   "cell_type": "markdown",
   "metadata": {},
   "source": [
    "`curvems` is a list of `ErrorMeasurements`. Each `ErrorMeasurements` object stores all errors measured for a single train set size."
   ]
  },
  {
   "cell_type": "code",
   "execution_count": 4,
   "metadata": {},
   "outputs": [
    {
     "name": "stdout",
     "output_type": "stream",
     "text": [
      "num_train_samples: 200\n",
      "test_errors: [79.14, 78.48]\n",
      "num_ms: 2\n",
      "\n"
     ]
    }
   ],
   "source": [
    "errms = curvems[3]\n",
    "print(errms)"
   ]
  },
  {
   "cell_type": "markdown",
   "metadata": {},
   "source": [
    "Get train set sizes used in the measurements"
   ]
  },
  {
   "cell_type": "code",
   "execution_count": 5,
   "metadata": {},
   "outputs": [
    {
     "name": "stdout",
     "output_type": "stream",
     "text": [
      "[25, 50, 100, 200, 400]\n"
     ]
    }
   ],
   "source": [
    "dataset_sizes = curvems.get_train_dataset_sizes()\n",
    "print(dataset_sizes)"
   ]
  },
  {
   "cell_type": "markdown",
   "metadata": {},
   "source": [
    "Get all error measurements for a specific train set size"
   ]
  },
  {
   "cell_type": "code",
   "execution_count": 6,
   "metadata": {},
   "outputs": [
    {
     "name": "stdout",
     "output_type": "stream",
     "text": [
      "num_train_samples: 100\n",
      "test_errors: [82.03, 81.86, 81.5, 80.72]\n",
      "num_ms: 4\n",
      "\n"
     ]
    }
   ],
   "source": [
    "errms = curvems.get_errms(100)\n",
    "print(errms)"
   ]
  }
 ],
 "metadata": {
  "kernelspec": {
   "display_name": "Python 3",
   "language": "python",
   "name": "python3"
  },
  "language_info": {
   "codemirror_mode": {
    "name": "ipython",
    "version": 3
   },
   "file_extension": ".py",
   "mimetype": "text/x-python",
   "name": "python",
   "nbconvert_exporter": "python",
   "pygments_lexer": "ipython3",
   "version": "3.9.2"
  }
 },
 "nbformat": 4,
 "nbformat_minor": 4
}
